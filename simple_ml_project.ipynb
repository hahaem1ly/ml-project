{
 "cells": [
  {
   "cell_type": "code",
   "execution_count": 2,
   "id": "4d3f40ca-806b-4740-9b28-e21d8c78a57b",
   "metadata": {},
   "outputs": [],
   "source": [
    "import numpy as np\n",
    "import pandas as pd\n",
    "import matplotlib.pyplot as plt\n",
    "from sklearn.model_selection import train_test_split\n",
    "from sklearn.linear_model import LinearRegression\n",
    "from sklearn.metrics import mean_squared_error"
   ]
  },
  {
   "cell_type": "code",
   "execution_count": null,
   "id": "6e927e8f-b314-45c2-b56a-98ceedbc598e",
   "metadata": {},
   "outputs": [],
   "source": [
    "#generating mock data \n",
    "np.random.seed(42)\n",
    "x = np.random.rand(100,1) * 10 # random nbr 1-10 \n",
    "y = 3 * x + np.rnadom.rand(100, 1 ) * # linear realtionshion \n",
    "\n",
    "\n",
    "#visualising the data \n",
    "plt.scatter(x, y , color='blue')\n",
    "plt.title(\"generated data\")\n",
    "plt.xlabel(\"X (Feature)\")\n",
    "plt.ylabel(\"y (Target)\")\n",
    "plt.show()\n"
   ]
  }
 ],
 "metadata": {
  "kernelspec": {
   "display_name": "Python 3 (ipykernel)",
   "language": "python",
   "name": "python3"
  },
  "language_info": {
   "codemirror_mode": {
    "name": "ipython",
    "version": 3
   },
   "file_extension": ".py",
   "mimetype": "text/x-python",
   "name": "python",
   "nbconvert_exporter": "python",
   "pygments_lexer": "ipython3",
   "version": "3.11.8"
  }
 },
 "nbformat": 4,
 "nbformat_minor": 5
}
