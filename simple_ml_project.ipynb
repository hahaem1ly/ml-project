{
 "cells": [
  {
   "cell_type": "code",
   "execution_count": null,
   "id": "4d3f40ca-806b-4740-9b28-e21d8c78a57b",
   "metadata": {},
   "outputs": [],
   "source": []
  }
 ],
 "metadata": {
  "kernelspec": {
   "display_name": "",
   "name": ""
  },
  "language_info": {
   "name": ""
  }
 },
 "nbformat": 4,
 "nbformat_minor": 5
}
